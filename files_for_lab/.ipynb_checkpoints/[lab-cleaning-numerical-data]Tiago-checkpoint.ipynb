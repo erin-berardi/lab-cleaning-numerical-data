{
 "cells": [
  {
   "cell_type": "markdown",
   "id": "4a3389b4",
   "metadata": {},
   "source": [
    "### 1. Import the necessary libraries."
   ]
  },
  {
   "cell_type": "code",
   "execution_count": 1,
   "id": "5aa66047",
   "metadata": {},
   "outputs": [],
   "source": [
    "import imblearn\n",
    "import pandas as pd \n",
    "import numpy as np \n",
    "import matplotlib.pyplot as plt\n",
    "\n",
    "import warnings\n",
    "warnings.filterwarnings(\"ignore\")\n",
    "from sklearn.model_selection import train_test_split\n",
    "from sklearn.metrics import precision_score, recall_score, f1_score, classification_report,accuracy_score\n",
    "from sklearn.preprocessing import MinMaxScaler\n",
    "from sklearn.linear_model import LogisticRegression\n",
    "from sklearn.metrics import confusion_matrix\n",
    "from sklearn.utils import resample\n",
    "from imblearn.over_sampling import SMOTE\n",
    "\n",
    "from jupyter_datatables import init_datatables_mode"
   ]
  },
  {
   "cell_type": "markdown",
   "id": "956bbb78",
   "metadata": {},
   "source": [
    "### 2. Load the we_fn_use_c_marketing_customer_value_analysis.csv into the variable customer_df"
   ]
  },
  {
   "cell_type": "code",
   "execution_count": null,
   "id": "70038f90",
   "metadata": {
    "scrolled": true
   },
   "outputs": [],
   "source": [
    "customer_df=pd.read_csv(r\"C:\\Users\\Quaresma\\Documents\\IRONHACK\\Labs\\12 lab-cleaning-numerical-data\\files_for_lab\\we_fn_use_c_marketing_customer_value_analysis.csv\")"
   ]
  },
  {
   "cell_type": "markdown",
   "id": "53eeb27d",
   "metadata": {},
   "source": [
    "### 3. First look at its main features (head, shape, info)."
   ]
  },
  {
   "cell_type": "code",
   "execution_count": null,
   "id": "700103cd",
   "metadata": {},
   "outputs": [],
   "source": [
    "customer_df.head()\n",
    "customer_df.shape\n",
    "customer_df.info()"
   ]
  },
  {
   "cell_type": "markdown",
   "id": "ee900011",
   "metadata": {},
   "source": [
    "### 4. Rename the columns so they follow the PE8 (snake case) (lower_case_with_underscores)"
   ]
  },
  {
   "cell_type": "code",
   "execution_count": null,
   "id": "176fd3ef",
   "metadata": {},
   "outputs": [],
   "source": [
    "col=[customer_df.columns[i].lower().replace(\" \",\"_\") for i in range(len(customer_df.columns))]\n",
    "customer_df.columns=col\n",
    "customer_df"
   ]
  },
  {
   "cell_type": "markdown",
   "id": "46be2bb3",
   "metadata": {},
   "source": [
    "### 5. Change effective to date column to datetime format."
   ]
  },
  {
   "cell_type": "code",
   "execution_count": null,
   "id": "c5d74c0d",
   "metadata": {},
   "outputs": [],
   "source": [
    "customer_df['effective_to_date'] = pd.to_datetime(customer_df['effective_to_date'])"
   ]
  },
  {
   "cell_type": "markdown",
   "id": "c355e204",
   "metadata": {},
   "source": [
    "### 6. Create a new dataframe using only the numerical data called numerical_df. Use this for the following questions."
   ]
  },
  {
   "cell_type": "code",
   "execution_count": null,
   "id": "78963e47",
   "metadata": {},
   "outputs": [],
   "source": [
    "numerical_df= customer_df.select_dtypes(include=np.number)\n",
    "numerical_df   "
   ]
  },
  {
   "cell_type": "markdown",
   "id": "f1860734",
   "metadata": {},
   "source": [
    "### 7. Define a function that differentiates between continuous and discrete variables. Hint: The number of unique values might be useful. Store continuous data into a continuous_df variable and do the same for discrete_df"
   ]
  },
  {
   "cell_type": "code",
   "execution_count": null,
   "id": "3722cae4",
   "metadata": {},
   "outputs": [],
   "source": [
    "print(numerical_df['customer_lifetime_value'].nunique())\n",
    "print(numerical_df['income'].nunique())\n",
    "print(numerical_df['monthly_premium_auto'].nunique())\n",
    "print(numerical_df['months_since_last_claim'].nunique())\n",
    "print(numerical_df['months_since_policy_inception'].nunique())\n",
    "print(numerical_df['number_of_open_complaints'].nunique())\n",
    "print(numerical_df['number_of_policies'].nunique())\n",
    "print(numerical_df['total_claim_amount'].nunique())"
   ]
  },
  {
   "cell_type": "code",
   "execution_count": null,
   "id": "588fa6db",
   "metadata": {},
   "outputs": [],
   "source": []
  },
  {
   "cell_type": "code",
   "execution_count": null,
   "id": "35669b3f",
   "metadata": {},
   "outputs": [],
   "source": [
    "def cont_dis(data_input):\n",
    "    global continuous_df, discrete_df\n",
    "    numerical_df= data_input.select_dtypes(include=np.number)\n",
    "    continuous = []\n",
    "    discrete = []\n",
    "    for i in numerical_df.columns:\n",
    "        if numerical_df[i].nunique() >= 500:\n",
    "            continuous.append(i)\n",
    "        else:\n",
    "            discrete.append(i)\n",
    "\n",
    "    continuous_df = pd.DataFrame(numerical_df[continuous])\n",
    "    discrete_df = pd.DataFrame(numerical_df[discrete])\n",
    "\n",
    "    return  continuous_df, discrete_df\n",
    "    \n",
    "\n"
   ]
  },
  {
   "cell_type": "code",
   "execution_count": null,
   "id": "2de5a274",
   "metadata": {},
   "outputs": [],
   "source": [
    "cont_dis(customer_df)\n",
    "continuous_df\n",
    "discrete_df"
   ]
  },
  {
   "cell_type": "markdown",
   "id": "7e80d9c0",
   "metadata": {},
   "source": [
    "### 8. Plot a correlation matrix, comment what you see."
   ]
  },
  {
   "cell_type": "code",
   "execution_count": null,
   "id": "7e7d8aec",
   "metadata": {},
   "outputs": [],
   "source": [
    "def matrix(df):\n",
    "    matrix = df.corr().round(2)\n",
    "    mask = np.triu(np.ones_like(matrix, dtype=bool))\n",
    "    fig, ax = plt.subplots(figsize=(80, 80))\n",
    "    ax = sns.heatmap(matrix, annot=True, vmax=1, vmin=-1, center=0, cmap='vlag', mask=mask)\n",
    "    plt.show()\n",
    "    \n",
    "    "
   ]
  },
  {
   "cell_type": "code",
   "execution_count": null,
   "id": "3f6e4a2d",
   "metadata": {},
   "outputs": [],
   "source": [
    "matrix(numerical_df)"
   ]
  },
  {
   "cell_type": "markdown",
   "id": "fbb52879",
   "metadata": {},
   "source": [
    "### 9. Create a function to plot every discrete variable. Do the same with the continuous variables (Be Careful, you may need to change the plot type to one better suited for continuous data!)"
   ]
  },
  {
   "cell_type": "code",
   "execution_count": null,
   "id": "e3269418",
   "metadata": {},
   "outputs": [],
   "source": [
    "\n"
   ]
  },
  {
   "cell_type": "markdown",
   "id": "b2dd1c36",
   "metadata": {},
   "source": [
    "### 10. Comment what you can see in the plots."
   ]
  },
  {
   "cell_type": "code",
   "execution_count": null,
   "id": "3f612e2a",
   "metadata": {},
   "outputs": [],
   "source": []
  },
  {
   "cell_type": "markdown",
   "id": "9155bd0d",
   "metadata": {},
   "source": [
    "### 11. Look for outliers in the continuous variables. (HINT: There’s a good plot to do that!)"
   ]
  },
  {
   "cell_type": "code",
   "execution_count": null,
   "id": "2f2b1b8f",
   "metadata": {},
   "outputs": [],
   "source": []
  },
  {
   "cell_type": "markdown",
   "id": "f8bd0a8a",
   "metadata": {},
   "source": [
    "### 12. Did you find outliers? Comment what you will do with them. If you decide to remove them, do that now."
   ]
  },
  {
   "cell_type": "code",
   "execution_count": null,
   "id": "8563722c",
   "metadata": {},
   "outputs": [],
   "source": []
  },
  {
   "cell_type": "markdown",
   "id": "96e045c5",
   "metadata": {},
   "source": [
    "### 13. Check all columns for NaN values. Decide what (if anything) you will need to do with them, do that now."
   ]
  },
  {
   "cell_type": "code",
   "execution_count": null,
   "id": "22be7f99",
   "metadata": {},
   "outputs": [],
   "source": []
  },
  {
   "cell_type": "markdown",
   "id": "f8b9242e",
   "metadata": {},
   "source": [
    "### 14. Save the numerical_df to csv as numerical.csv You will use this file again this week."
   ]
  },
  {
   "cell_type": "code",
   "execution_count": null,
   "id": "49affce2",
   "metadata": {},
   "outputs": [],
   "source": []
  },
  {
   "cell_type": "code",
   "execution_count": null,
   "id": "5d8161a0",
   "metadata": {},
   "outputs": [],
   "source": []
  }
 ],
 "metadata": {
  "kernelspec": {
   "display_name": "Python 3 (ipykernel)",
   "language": "python",
   "name": "python3"
  },
  "language_info": {
   "codemirror_mode": {
    "name": "ipython",
    "version": 3
   },
   "file_extension": ".py",
   "mimetype": "text/x-python",
   "name": "python",
   "nbconvert_exporter": "python",
   "pygments_lexer": "ipython3",
   "version": "3.10.9"
  }
 },
 "nbformat": 4,
 "nbformat_minor": 5
}
